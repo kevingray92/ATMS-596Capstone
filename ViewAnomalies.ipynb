{
 "cells": [
  {
   "cell_type": "code",
   "execution_count": null,
   "id": "bbf282d8",
   "metadata": {},
   "outputs": [],
   "source": [
    "import pygrib\n",
    "import matplotlib.pyplot as plt\n",
    "import matplotlib.colors as colors\n",
    "import numpy as np\n",
    "import cartopy.crs as crs\n",
    "import cartopy.feature as cfeature"
   ]
  },
  {
   "cell_type": "code",
   "execution_count": null,
   "id": "c8dbbfec",
   "metadata": {},
   "outputs": [],
   "source": [
    "### Define the path and name of the monthly averaged grib file and open using pygrib.\n",
    "filename = 'ERA5MonthlyAveraged.grib'\n",
    "grbs = pygrib.open(filename) \n",
    "grb = grbs.select()[:]\n",
    "grb"
   ]
  },
  {
   "cell_type": "code",
   "execution_count": null,
   "id": "c7bf2f28",
   "metadata": {},
   "outputs": [],
   "source": [
    "###Declare some empty lists for each variable\n",
    "u     = []\n",
    "v     = []\n",
    "waves = []\n",
    "\n",
    "###Loop over the grib messages and append the above lists based on the grib message .name string\n",
    "for i in np.arange(0,len(grb)):\n",
    "    if 'U wind' in grb[i].name:\n",
    "        data, ulats, ulons = grb[i].data() ### Get the data, lats, and lons from the grib message\n",
    "        u.append(data)\n",
    "    if 'V wind' in grb[i].name:\n",
    "        data, vlats, vlons = grb[i].data()\n",
    "        v.append(data)\n",
    "    if 'waves' in grb[i].name:\n",
    "        data, wavelats, wavelons = grb[i].data()\n",
    "        waves.append(data)"
   ]
  },
  {
   "cell_type": "code",
   "execution_count": null,
   "id": "0182787c",
   "metadata": {},
   "outputs": [],
   "source": [
    "###Check the dimensions of the lists we filled\n",
    "print('The length of the u list is: ',len(u))\n",
    "print('The shape of the data in each year is: ',u[0].shape)"
   ]
  },
  {
   "cell_type": "code",
   "execution_count": null,
   "id": "3380143d",
   "metadata": {},
   "outputs": [],
   "source": [
    "###Get the decadal mean by using np.mean along axis 0 (the year dimension)\n",
    "udecade = np.mean(u,axis=0)\n",
    "vdecade = np.mean(v,axis=0)\n",
    "spddecade = ((udecade**2)+(vdecade**2))**(0.5) #Use Pythagorean Theorem to get wind speed\n",
    "wavesdecade = np.mean(waves,axis=0)"
   ]
  },
  {
   "cell_type": "code",
   "execution_count": null,
   "id": "6fe65d68",
   "metadata": {},
   "outputs": [],
   "source": [
    "###Make a quick plot of the wind speed\n",
    "windlevs = np.arange(0,4.5,0.5) #declare some contour levels for wind speed\n",
    "plt.contourf(ulons,ulats,spddecade,levels=windlevs)\n",
    "plt.quiver(ulons,ulats,udecade,vdecade)\n",
    "plt.colorbar()"
   ]
  },
  {
   "cell_type": "code",
   "execution_count": null,
   "id": "40598088",
   "metadata": {},
   "outputs": [],
   "source": [
    "###Make a quick plot of the waves\n",
    "wavelevs = np.arange(0,2,0.25) #declare some contour levels for the wave height\n",
    "plt.contourf(wavelons,wavelats,wavesdecade,levels=wavelevs)\n",
    "plt.colorbar()"
   ]
  },
  {
   "cell_type": "code",
   "execution_count": null,
   "id": "866a90fc",
   "metadata": {},
   "outputs": [],
   "source": [
    "# Create a figure and axis with a specific projection\n",
    "fig, ax = plt.subplots(figsize=(12, 6), subplot_kw={'projection': crs.PlateCarree()})\n",
    "\n",
    "# Create a contour plot\n",
    "windlevs = np.arange(0,4.5,0.5)\n",
    "contour = ax.contourf(ulons,ulats,spddecade,levels=windlevs, transform=crs.PlateCarree())\n",
    "# Create a quiver plot for the wind vectors\n",
    "Q = ax.quiver(ulons[::2,::2],ulats[::2,::2],udecade[::2,::2],vdecade[::2,::2],scale=80) #Plot wind vectors at every other grid point\n",
    "qk = ax.quiverkey(Q, 0.1, -0.1, 5, r'$5 \\frac{m}{s}$', labelpos='W') #This provides the reference vector (bottom left)\n",
    "\n",
    "# Add coastlines and state borders\n",
    "ax.add_feature(cfeature.COASTLINE)\n",
    "ax.add_feature(cfeature.STATES)\n",
    "\n",
    "# Add a colorbar\n",
    "cbar = plt.colorbar(contour)\n",
    "cbar.set_label('Wind speed (m/s)')\n",
    "\n",
    "# Set title\n",
    "plt.title('Decadal mean wind speed (m/s) for November from 1965-1975')\n",
    "\n",
    "# Show the plot\n",
    "plt.show()"
   ]
  },
  {
   "cell_type": "code",
   "execution_count": null,
   "id": "0cc32fdc",
   "metadata": {},
   "outputs": [],
   "source": [
    "# Create a figure and axis with a specific projection\n",
    "fig, ax = plt.subplots(figsize=(12, 6), subplot_kw={'projection': crs.PlateCarree()})\n",
    "\n",
    "# Create a contour plot\n",
    "wavelevs = np.arange(0,2,0.25)\n",
    "contour = ax.contourf(wavelons,wavelats,wavesdecade,levels=wavelevs, transform=crs.PlateCarree())\n",
    "\n",
    "# Add coastlines and state borders\n",
    "ax.add_feature(cfeature.COASTLINE)\n",
    "ax.add_feature(cfeature.STATES)\n",
    "\n",
    "# Add a colorbar\n",
    "cbar = plt.colorbar(contour)\n",
    "cbar.set_label('Wave height (m)')\n",
    "\n",
    "# Set title\n",
    "plt.title('Decadal mean wave height (m) for November from 1965-1975')\n",
    "\n",
    "# Show the plot\n",
    "plt.show()"
   ]
  },
  {
   "cell_type": "markdown",
   "id": "3f1446dd",
   "metadata": {},
   "source": [
    "# Now get the anomalies"
   ]
  },
  {
   "cell_type": "code",
   "execution_count": null,
   "id": "f7342630",
   "metadata": {},
   "outputs": [],
   "source": [
    "###Define the path and name of the (six) hourly grib file and open using pygrib.\n",
    "filename = 'ERA5Hourly.grib'\n",
    "grbs = pygrib.open(filename) \n",
    "grb = grbs.select()[:]\n",
    "grb"
   ]
  },
  {
   "cell_type": "code",
   "execution_count": null,
   "id": "9ef5952b",
   "metadata": {},
   "outputs": [],
   "source": [
    "###Declare some empty lists for each variable\n",
    "hu     = []\n",
    "hv     = []\n",
    "hwaves = []\n",
    "\n",
    "###Loop over the grib messages and append the above lists based on the grib message .name string\n",
    "\n",
    "for i in np.arange(0,len(grb)):\n",
    "    if 'U wind' in grb[i].name:\n",
    "        data, ulats, ulons = grb[i].data() ### Get the data, lats, and lons from the grib message\n",
    "        hu.append(data)\n",
    "    if 'V wind' in grb[i].name:\n",
    "        data, vlats, vlons = grb[i].data()\n",
    "        hv.append(data)\n",
    "    if 'waves' in grb[i].name:\n",
    "        data, wavelats, wavelons = grb[i].data()\n",
    "        hwaves.append(data)"
   ]
  },
  {
   "cell_type": "code",
   "execution_count": null,
   "id": "ee754bc0",
   "metadata": {},
   "outputs": [],
   "source": [
    "### Get the anomalies at 00z on Nov 11 (index 4 in the lists), around the time that the Edmund Fitzgerald sank\n",
    "anom00z_u = hu[4]-udecade\n",
    "anom00z_v = hv[4]-vdecade\n",
    "spd00z = ((hu[4]**2)+(hv[4]**2))**(0.5)\n",
    "anom00z_spd = spd00z-spddecade\n",
    "anom00z_waves = hwaves[4]-wavesdecade"
   ]
  },
  {
   "cell_type": "code",
   "execution_count": null,
   "id": "75d80e9c",
   "metadata": {},
   "outputs": [],
   "source": [
    "# Create a figure and axis with a specific projection\n",
    "fig, ax = plt.subplots(figsize=(12, 6), subplot_kw={'projection': crs.PlateCarree()})\n",
    "\n",
    "# Create a contour plot\n",
    "windlevs = np.arange(0,24,2)\n",
    "contour = ax.contourf(ulons,ulats,anom00z_spd,levels=windlevs, transform=crs.PlateCarree())\n",
    "Q = ax.quiver(ulons[::2,::2],ulats[::2,::2],anom00z_u[::2,::2],anom00z_v[::2,::2],scale=300) #Plot wind vectors at every other grid point\n",
    "qk = ax.quiverkey(Q, 0.1, -0.1, 10, r'$10 \\frac{m}{s}$', labelpos='W')\n",
    "\n",
    "# Plot the location of the wreck of The Edmund Fitzgerald\n",
    "wrecklat  = 46.9985\n",
    "wrecklon  = -85.1102\n",
    "wreckloc  = ax.scatter(wrecklon,wrecklat,color='red',marker='x')\n",
    "\n",
    "# Add coastlines and state borders\n",
    "ax.add_feature(cfeature.COASTLINE)\n",
    "ax.add_feature(cfeature.STATES)\n",
    "\n",
    "# Add a colorbar\n",
    "cbar = plt.colorbar(contour)\n",
    "cbar.set_label('Wind speed (m/s)')\n",
    "\n",
    "# Set title\n",
    "plt.title('Wind speed anomalies (m/s) at 00z on Nov. 11, 1975')\n",
    "\n",
    "# Show the plot\n",
    "plt.show()"
   ]
  },
  {
   "cell_type": "code",
   "execution_count": null,
   "id": "66b9d560",
   "metadata": {},
   "outputs": [],
   "source": [
    "# Create a figure and axis with a specific projection\n",
    "fig, ax = plt.subplots(figsize=(12, 6), subplot_kw={'projection': crs.PlateCarree()})\n",
    "\n",
    "# Create a contour plot\n",
    "wavelevs = np.arange(0,7.5,0.5)\n",
    "contour = ax.contourf(wavelons,wavelats,anom00z_waves,levels=wavelevs, transform=crs.PlateCarree())\n",
    "\n",
    "# Plot the location of the wreck of The Edmund Fitzgerald\n",
    "wrecklat  = 46.9985\n",
    "wrecklon  = -85.1102\n",
    "wreckloc  = ax.scatter(wrecklon,wrecklat,color='red',marker='x')\n",
    "\n",
    "# Add coastlines and state borders\n",
    "ax.add_feature(cfeature.COASTLINE)\n",
    "ax.add_feature(cfeature.STATES)\n",
    "\n",
    "# Add a colorbar\n",
    "cbar = plt.colorbar(contour)\n",
    "cbar.set_label('Wave height (m)')\n",
    "\n",
    "# Set title\n",
    "plt.title('Wave height anomalies (m) at 00z on Nov. 11, 1975')\n",
    "\n",
    "# Show the plot\n",
    "plt.show()"
   ]
  },
  {
   "cell_type": "markdown",
   "id": "916dd603",
   "metadata": {},
   "source": [
    "# Interpretation?\n",
    "During the wreck, winds were ... \n",
    "\n",
    "During the wreck, waves were ...\n",
    "\n",
    "Based on the anomalous wind pattern it looks like..."
   ]
  },
  {
   "cell_type": "code",
   "execution_count": null,
   "id": "2e33e34c",
   "metadata": {},
   "outputs": [],
   "source": []
  }
 ],
 "metadata": {
  "kernelspec": {
   "display_name": "Python 3 (ipykernel)",
   "language": "python",
   "name": "python3"
  },
  "language_info": {
   "codemirror_mode": {
    "name": "ipython",
    "version": 3
   },
   "file_extension": ".py",
   "mimetype": "text/x-python",
   "name": "python",
   "nbconvert_exporter": "python",
   "pygments_lexer": "ipython3",
   "version": "3.11.13"
  }
 },
 "nbformat": 4,
 "nbformat_minor": 5
}
