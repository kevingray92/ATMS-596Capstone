{
 "cells": [
  {
   "cell_type": "code",
   "execution_count": null,
   "id": "eff72499-1a4d-40f5-a38e-b8c413ea56a9",
   "metadata": {},
   "outputs": [],
   "source": [
    "import cartopy.crs as ccrs\n",
    "import cartopy.feature as cfeature\n",
    "from matplotlib.colors import BoundaryNorm\n",
    "import matplotlib.pyplot as plt\n",
    "import numpy as np\n",
    "import pandas as pd\n",
    "\n",
    "from metpy.calc import wind_components\n",
    "from metpy.cbook import get_test_data\n",
    "from metpy.interpolate import interpolate_to_grid, remove_nan_observations\n",
    "from metpy.plots import add_metpy_logo\n",
    "from metpy.units import units\n",
    "\n",
    "### Set up a map projection to use\n",
    "to_proj = ccrs.AlbersEqualArea(central_longitude=-97., central_latitude=38.)"
   ]
  },
  {
   "cell_type": "code",
   "execution_count": null,
   "id": "d91bc5c2-0439-4930-a13c-88753576e87c",
   "metadata": {},
   "outputs": [],
   "source": [
    "### Load some test data included in metpy.cbook\n",
    "with get_test_data('station_data.txt') as f:\n",
    "    data = pd.read_csv(f, header=0, usecols=(2, 3, 4, 5, 18, 19),\n",
    "                       names=['latitude', 'longitude', 'slp', 'temperature', 'wind_dir',\n",
    "                              'wind_speed'],\n",
    "                       na_values=-99999)"
   ]
  },
  {
   "cell_type": "code",
   "execution_count": null,
   "id": "1b2fdca9-3fcf-404c-8dfe-963553b6d35a",
   "metadata": {},
   "outputs": [],
   "source": [
    "### View the data\n",
    "data"
   ]
  },
  {
   "cell_type": "code",
   "execution_count": null,
   "id": "dff85476-83b4-44b0-9fbf-b5551a99adc7",
   "metadata": {},
   "outputs": [],
   "source": [
    "### extract the lat and lon coordinates and then transform them to geodetic coords\n",
    "lon = data['longitude'].values\n",
    "lat = data['latitude'].values\n",
    "xp, yp, _ = to_proj.transform_points(ccrs.Geodetic(), lon, lat).T"
   ]
  },
  {
   "cell_type": "code",
   "execution_count": null,
   "id": "1f1472fa-df41-4c52-88dc-1cfe407f6620",
   "metadata": {},
   "outputs": [],
   "source": [
    "### Check the transformation\n",
    "print('lon: ',lon[0])\n",
    "print('lat: ',lat[0])\n",
    "print('xp:  ',xp[0])\n",
    "print('yp:  ',yp[0])"
   ]
  },
  {
   "cell_type": "code",
   "execution_count": null,
   "id": "08f520c1-671f-4a79-a1ff-5530cb2411fc",
   "metadata": {},
   "outputs": [],
   "source": [
    "### Make a plot to view the station locations\n",
    "fig = plt.figure(figsize=(20, 10))\n",
    "view = fig.add_subplot(1, 1, 1, projection=to_proj)\n",
    "\n",
    "view.set_extent([-120, -70, 20, 50])\n",
    "view.add_feature(cfeature.STATES.with_scale('50m'))\n",
    "view.add_feature(cfeature.OCEAN)\n",
    "view.add_feature(cfeature.COASTLINE.with_scale('50m'))\n",
    "view.add_feature(cfeature.BORDERS, linestyle=':')\n",
    "\n",
    "view.scatter(xp,yp,c='blue')\n",
    "\n",
    "plt.show()"
   ]
  },
  {
   "cell_type": "code",
   "execution_count": null,
   "id": "2fcf31c1-82ba-460b-be92-6bcfd4044a64",
   "metadata": {},
   "outputs": [],
   "source": [
    "### Clean up the pressure data by removing missing observations (NaNs)\n",
    "x_masked, y_masked, pressure = remove_nan_observations(xp, yp, data['slp'].values)"
   ]
  },
  {
   "cell_type": "code",
   "execution_count": null,
   "id": "36b76b2d-f6fc-41ba-acab-269e27297f3f",
   "metadata": {},
   "outputs": [],
   "source": [
    "### Plot the stations with valid pressure data\n",
    "fig = plt.figure(figsize=(20, 10))\n",
    "view = fig.add_subplot(1, 1, 1, projection=to_proj)\n",
    "\n",
    "view.set_extent([-120, -70, 20, 50])\n",
    "view.add_feature(cfeature.STATES.with_scale('50m'))\n",
    "view.add_feature(cfeature.OCEAN)\n",
    "view.add_feature(cfeature.COASTLINE.with_scale('50m'))\n",
    "view.add_feature(cfeature.BORDERS, linestyle=':')\n",
    "\n",
    "scatter = view.scatter(x_masked,y_masked,c=pressure) #Color code the station by its pressure value\n",
    "cbar = plt.colorbar(scatter)\n",
    "cbar.set_label('Pressure (mb)')\n",
    "\n",
    "plt.show()"
   ]
  },
  {
   "cell_type": "code",
   "execution_count": null,
   "id": "493b3927-bc86-444f-81a0-e1a73517dad7",
   "metadata": {},
   "outputs": [],
   "source": [
    "### Interpolate pressure observations to a grid\n",
    "slpgridx, slpgridy, slp = interpolate_to_grid(x_masked, y_masked, pressure,\n",
    "                                              interp_type='cressman', minimum_neighbors=1,\n",
    "                                              search_radius=400000, hres=100000) # the hres changes the grid resolution"
   ]
  },
  {
   "cell_type": "code",
   "execution_count": null,
   "id": "2509b0ca-6600-43f0-a103-de92a92a54fc",
   "metadata": {},
   "outputs": [],
   "source": [
    "### Make the same plot, but now with the interpolated pressure grid contoured over the stations\n",
    "fig = plt.figure(figsize=(20, 10))\n",
    "view = fig.add_subplot(1, 1, 1, projection=to_proj)\n",
    "\n",
    "view.set_extent([-120, -70, 20, 50])\n",
    "view.add_feature(cfeature.STATES.with_scale('50m'))\n",
    "view.add_feature(cfeature.OCEAN)\n",
    "view.add_feature(cfeature.COASTLINE.with_scale('50m'))\n",
    "view.add_feature(cfeature.BORDERS, linestyle=':')\n",
    "\n",
    "scatter = view.scatter(x_masked,y_masked,c=pressure)\n",
    "cbar = plt.colorbar(scatter)\n",
    "cbar.set_label('Pressure (mb)')\n",
    "\n",
    "cs = view.contour(slpgridx, slpgridy, slp, colors='k', levels=list(range(990, 1034, 4)))\n",
    "view.clabel(cs, inline=1, fontsize=12, fmt='%i')\n",
    "\n",
    "plt.show()"
   ]
  },
  {
   "cell_type": "code",
   "execution_count": null,
   "id": "29700739-5776-45a3-b982-8722aad7372c",
   "metadata": {},
   "outputs": [],
   "source": [
    "### Plot the resulting pressure grid with the station locations overlaid\n",
    "fig = plt.figure(figsize=(20, 10))\n",
    "view = fig.add_subplot(1, 1, 1, projection=to_proj)\n",
    "\n",
    "view.set_extent([-120, -70, 20, 50])\n",
    "view.add_feature(cfeature.STATES.with_scale('50m'))\n",
    "view.add_feature(cfeature.OCEAN)\n",
    "view.add_feature(cfeature.COASTLINE.with_scale('50m'))\n",
    "view.add_feature(cfeature.BORDERS, linestyle=':')\n",
    "\n",
    "cf = view.contourf(slpgridx, slpgridy, slp, levels=list(range(990, 1034, 4)))\n",
    "cbar = plt.colorbar(cf)\n",
    "cbar.set_label('Pressure (mb)')\n",
    "view.scatter(x_masked,y_masked,c='black')\n",
    "\n",
    "plt.show()"
   ]
  },
  {
   "cell_type": "code",
   "execution_count": null,
   "id": "a8466f24-67ba-45e9-9881-06c89a2f6044",
   "metadata": {},
   "outputs": [],
   "source": [
    "### See the resulting grid shape\n",
    "slp.shape"
   ]
  },
  {
   "cell_type": "code",
   "execution_count": null,
   "id": "128e3eac-dd27-4f04-a818-fd006dc13145",
   "metadata": {},
   "outputs": [],
   "source": [
    "### On your own: Repeat with temperature observations."
   ]
  },
  {
   "cell_type": "code",
   "execution_count": null,
   "id": "289bbf1a-198f-423c-a960-3279ef9a9228",
   "metadata": {},
   "outputs": [],
   "source": []
  }
 ],
 "metadata": {
  "kernelspec": {
   "display_name": "Python 3 (ipykernel)",
   "language": "python",
   "name": "python3"
  },
  "language_info": {
   "codemirror_mode": {
    "name": "ipython",
    "version": 3
   },
   "file_extension": ".py",
   "mimetype": "text/x-python",
   "name": "python",
   "nbconvert_exporter": "python",
   "pygments_lexer": "ipython3",
   "version": "3.11.13"
  }
 },
 "nbformat": 4,
 "nbformat_minor": 5
}
