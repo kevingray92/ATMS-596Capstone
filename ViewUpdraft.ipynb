{
 "cells": [
  {
   "cell_type": "code",
   "execution_count": null,
   "id": "d8e1e116-8e60-429c-a8b1-ce1ae4a848d6",
   "metadata": {},
   "outputs": [],
   "source": [
    "import xarray as xr\n",
    "import numpy as np\n",
    "import matplotlib.pyplot as plt"
   ]
  },
  {
   "cell_type": "code",
   "execution_count": null,
   "id": "407a994f-5114-4d8a-821a-f18e2278f227",
   "metadata": {},
   "outputs": [],
   "source": [
    "#Open the .nc file as a dataset using xarray (path = '/data/keeling/a/kevintg2/scratch/ATMS-596/Week5/CM1updraft.nc')\n",
    "ds = xr.open_dataset('/data/keeling/a/kevintg2/scratch/ATMS-596/Week5/CM1updraft.nc')"
   ]
  },
  {
   "cell_type": "code",
   "execution_count": null,
   "id": "cf397e5f-b0b7-49eb-bef2-d863cc7566b8",
   "metadata": {},
   "outputs": [],
   "source": [
    "#Get some info about the dataset\n",
    "ds"
   ]
  },
  {
   "cell_type": "code",
   "execution_count": null,
   "id": "785525ec-520c-49de-9f71-0c8bed261d4d",
   "metadata": {},
   "outputs": [],
   "source": [
    "#Pull some variables from the dataset\n",
    "z = ds.z\n",
    "y = ds.y\n",
    "x = ds.x\n",
    "w = ds.w"
   ]
  },
  {
   "cell_type": "code",
   "execution_count": null,
   "id": "2439b41f-1f12-4af6-b26a-79d140e0c037",
   "metadata": {},
   "outputs": [],
   "source": [
    "#Assign the values of the z, y, and x to be the coordinates of the w field\n",
    "w = w.assign_coords(nk=z)\n",
    "w = w.assign_coords(nj=y)\n",
    "w = w.assign_coords(ni=x)"
   ]
  },
  {
   "cell_type": "code",
   "execution_count": null,
   "id": "a6e11473-70fe-4642-92a8-9ab1fe5429f5",
   "metadata": {},
   "outputs": [],
   "source": [
    "#Select a 2d slice of w at a specified height\n",
    "wlev = w.sel(nk=3,method='nearest')"
   ]
  },
  {
   "cell_type": "code",
   "execution_count": null,
   "id": "ed5bc30e-b179-45ca-8ab7-edde6ec6dc70",
   "metadata": {},
   "outputs": [],
   "source": [
    "#Make a plot. First define the contour levels, then do the plotting with matplotlib\n",
    "clevs = np.arange(0,55,5)\n",
    "plt.contourf(wlev.coords['ni'],wlev.coords['nj'],wlev,levels=clevs,extend='both')\n",
    "plt.colorbar()"
   ]
  },
  {
   "cell_type": "code",
   "execution_count": null,
   "id": "5336894b-b111-4803-b980-c32ed88f98a8",
   "metadata": {},
   "outputs": [],
   "source": [
    "#Select a subset of w so we can zoom in\n",
    "wzoom = w.sel(nj=slice(-10,10),ni=slice(-20,0))"
   ]
  },
  {
   "cell_type": "code",
   "execution_count": null,
   "id": "15b1245f-43b4-4f3d-a86e-0d228cc7c7b0",
   "metadata": {},
   "outputs": [],
   "source": [
    "#Show the info for the new wzoom field\n",
    "wzoom"
   ]
  },
  {
   "cell_type": "code",
   "execution_count": null,
   "id": "43980b24-1d9a-49e2-8840-ee9dbe3031a3",
   "metadata": {},
   "outputs": [],
   "source": [
    "#Choose the height to plot again\n",
    "wlev = wzoom.sel(nk=3,method='nearest')"
   ]
  },
  {
   "cell_type": "code",
   "execution_count": null,
   "id": "9625d4c2-9459-4450-a186-6093812fc96e",
   "metadata": {},
   "outputs": [],
   "source": [
    "#Make a plot\n",
    "plt.contourf(wlev.coords['ni'],wlev.coords['nj'],wlev,levels=clevs,extend='both')\n",
    "plt.colorbar()"
   ]
  },
  {
   "cell_type": "code",
   "execution_count": null,
   "id": "24efce89-4de9-4db0-815a-594fb1a034d9",
   "metadata": {},
   "outputs": [],
   "source": [
    "#Select a slice along a specific x or y value to get a 2d vertical cross-section\n",
    "wvert = wzoom.sel(ni=-10,method='nearest')"
   ]
  },
  {
   "cell_type": "code",
   "execution_count": null,
   "id": "9118aea5-2eca-4e41-a940-3ac1a6f3d141",
   "metadata": {},
   "outputs": [],
   "source": [
    "#Make a plot of the vertical cross-section\n",
    "plt.contourf(wvert.coords['nj'],wvert.coords['nk'],wvert,levels=clevs,extend='both')\n",
    "plt.colorbar()"
   ]
  },
  {
   "cell_type": "code",
   "execution_count": null,
   "id": "6f205bc8-7f71-4992-9751-32e00dc4c72f",
   "metadata": {},
   "outputs": [],
   "source": []
  }
 ],
 "metadata": {
  "kernelspec": {
   "display_name": "Python 3 (ipykernel)",
   "language": "python",
   "name": "python3"
  },
  "language_info": {
   "codemirror_mode": {
    "name": "ipython",
    "version": 3
   },
   "file_extension": ".py",
   "mimetype": "text/x-python",
   "name": "python",
   "nbconvert_exporter": "python",
   "pygments_lexer": "ipython3",
   "version": "3.11.13"
  }
 },
 "nbformat": 4,
 "nbformat_minor": 5
}
