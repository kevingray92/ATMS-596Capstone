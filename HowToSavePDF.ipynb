{
 "cells": [
  {
   "cell_type": "code",
   "execution_count": null,
   "id": "289405f4-9954-4dfe-bebc-309e893b2bdc",
   "metadata": {},
   "outputs": [],
   "source": [
    "import matplotlib.pyplot as plt\n",
    "from matplotlib.backends.backend_pdf import PdfPages ### This is what we need to save .pdf with matplotlib\n",
    "\n",
    "import numpy as np"
   ]
  },
  {
   "cell_type": "code",
   "execution_count": null,
   "id": "3a165eab-f04b-4393-b59e-ed6518aff420",
   "metadata": {},
   "outputs": [],
   "source": [
    "### Set up some data to plot\n",
    "x = np.arange(0,11,1)\n",
    "y = (x**2)+(3*x)"
   ]
  },
  {
   "cell_type": "code",
   "execution_count": null,
   "id": "f384c07f-1cc0-4048-ad4a-0ffde30956fc",
   "metadata": {},
   "outputs": [],
   "source": [
    "### Do a quick test plot to make sure data are ok\n",
    "plt.plot(x,y)"
   ]
  },
  {
   "cell_type": "code",
   "execution_count": null,
   "id": "aa88e5d5-53c0-43c2-b07a-f84c53793e37",
   "metadata": {},
   "outputs": [],
   "source": [
    "### Give a name to the .pdf file we are going to create\n",
    "pdfname = 'lineplot.pdf'\n",
    "\n",
    "### Open a pdf with the name above\n",
    "pdf = PdfPages(pdfname)\n",
    "\n",
    "### Set up a figure object. This is a good spot to define the size of your image too.\n",
    "fig = plt.figure(figsize=(4,4))\n",
    "\n",
    "### Make the plot. This goes to the fig object.\n",
    "plt.plot(x,y)\n",
    "plt.show()\n",
    "\n",
    "### Use the .savefig function to save your fig object to the .pdf\n",
    "pdf.savefig(fig)\n",
    "\n",
    "### Make sure to close your .pdf after you save your fig.\n",
    "pdf.close()"
   ]
  },
  {
   "cell_type": "code",
   "execution_count": null,
   "id": "7c7ad3c6-1a56-4ec9-8634-b723a2fc1d9d",
   "metadata": {},
   "outputs": [],
   "source": []
  }
 ],
 "metadata": {
  "kernelspec": {
   "display_name": "Python 3 (ipykernel)",
   "language": "python",
   "name": "python3"
  },
  "language_info": {
   "codemirror_mode": {
    "name": "ipython",
    "version": 3
   },
   "file_extension": ".py",
   "mimetype": "text/x-python",
   "name": "python",
   "nbconvert_exporter": "python",
   "pygments_lexer": "ipython3",
   "version": "3.11.13"
  }
 },
 "nbformat": 4,
 "nbformat_minor": 5
}
